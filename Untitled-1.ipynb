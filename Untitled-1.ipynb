{
 "cells": [
  {
   "cell_type": "markdown",
   "metadata": {},
   "source": [
    "# `File i/O`\n",
    "\n",
    "Python can be used to perfrm operation on a file.(read and write data)\n",
    "\n",
    "`Types of all files`\n",
    "1. Text files: .txt, .docx, .log etc\n",
    "2. Binary files: .mp4, .mov, .png, .jpeg wtc"
   ]
  },
  {
   "cell_type": "markdown",
   "metadata": {},
   "source": [
    "f=open(\"file_name\",\"mode\")\n",
    "\n",
    "file name=sample.txt,demo.docx\n",
    "\n",
    "mode= r:read mode,w:write mode\n",
    "\n",
    "data=f.read()\n",
    "f.close()"
   ]
  },
  {
   "cell_type": "code",
   "execution_count": 3,
   "metadata": {},
   "outputs": [
    {
     "name": "stdout",
     "output_type": "stream",
     "text": [
      "i am data science student.\n",
      "<class 'str'>\n"
     ]
    }
   ],
   "source": [
    "f=open('demo.txt','r')\n",
    "data=f.read()\n",
    "print(data)\n",
    "print(type(data))\n",
    "f.close()"
   ]
  },
  {
   "cell_type": "code",
   "execution_count": 2,
   "metadata": {},
   "outputs": [
    {
     "name": "stdout",
     "output_type": "stream",
     "text": [
      "i am \n"
     ]
    }
   ],
   "source": [
    "f=open('demo.txt','r+')\n",
    "data=f.read(5)\n",
    "print(data)\n",
    "f.close()"
   ]
  },
  {
   "cell_type": "code",
   "execution_count": 7,
   "metadata": {},
   "outputs": [
    {
     "name": "stdout",
     "output_type": "stream",
     "text": [
      "i am data science student.\n",
      "\n"
     ]
    }
   ],
   "source": [
    "f=open('demo.txt','r')\n",
    "line1=f.readline()\n",
    "print(line1)\n",
    "f.close()"
   ]
  },
  {
   "cell_type": "code",
   "execution_count": 8,
   "metadata": {},
   "outputs": [
    {
     "name": "stdout",
     "output_type": "stream",
     "text": [
      "i am data science student.\n",
      "\n"
     ]
    }
   ],
   "source": [
    "f=open('demo.txt','r')\n",
    "line2=f.readline()\n",
    "print(line2)\n",
    "f.close()"
   ]
  },
  {
   "cell_type": "markdown",
   "metadata": {},
   "source": [
    "`writing to a file`"
   ]
  },
  {
   "cell_type": "code",
   "execution_count": 12,
   "metadata": {},
   "outputs": [],
   "source": [
    "f=open('demo.txt','w')\n",
    "f.write(\"power come by taking power from others.\")\n",
    "\n",
    "f.close()"
   ]
  },
  {
   "cell_type": "code",
   "execution_count": 13,
   "metadata": {},
   "outputs": [],
   "source": [
    "f=open('demo.txt','a')\n",
    "f.write(\"mister is getting mad\")\n",
    "\n",
    "f.close()"
   ]
  },
  {
   "cell_type": "code",
   "execution_count": 14,
   "metadata": {},
   "outputs": [],
   "source": [
    "f=open('demo.txt','a')\n",
    "f.write(\"\\npython is new gen programming language\")\n",
    "\n",
    "f.close()"
   ]
  },
  {
   "cell_type": "code",
   "execution_count": 15,
   "metadata": {},
   "outputs": [],
   "source": [
    "f=open('sample.txt','w')\n",
    "f.write(\"mister is getting mad\")\n",
    "\n",
    "f.close()"
   ]
  },
  {
   "cell_type": "code",
   "execution_count": 17,
   "metadata": {},
   "outputs": [
    {
     "name": "stdout",
     "output_type": "stream",
     "text": [
      "er come by taking power from others.mister is getting mad\n",
      "python is new gen programming language\n"
     ]
    }
   ],
   "source": [
    "f=open('demo.txt','r+')\n",
    "f.write(\"abc\")\n",
    "print(f.read())\n",
    "f.close()"
   ]
  },
  {
   "cell_type": "code",
   "execution_count": 2,
   "metadata": {},
   "outputs": [
    {
     "name": "stdout",
     "output_type": "stream",
     "text": [
      "\n"
     ]
    }
   ],
   "source": [
    "f=open('demo.txt','a+')\n",
    "f.write(\"abc\")\n",
    "print(f.read())\n",
    "f.close()"
   ]
  },
  {
   "cell_type": "markdown",
   "metadata": {},
   "source": [
    "`with syntax`"
   ]
  },
  {
   "cell_type": "code",
   "execution_count": 4,
   "metadata": {},
   "outputs": [
    {
     "name": "stdout",
     "output_type": "stream",
     "text": [
      "abcabc\n"
     ]
    }
   ],
   "source": [
    "with open ('demo.txt','r') as f:\n",
    "    data=f.read()\n",
    "    print(data)"
   ]
  },
  {
   "cell_type": "markdown",
   "metadata": {},
   "source": [
    "# `Deleting a file`\n",
    "\n",
    "using the os module\n",
    "\n",
    "Module (like a code library) is a file written by another programmer that generally has a function we can use.\n",
    "\n",
    "import os\n",
    "\n",
    "os.remove(fillename)"
   ]
  },
  {
   "cell_type": "code",
   "execution_count": 5,
   "metadata": {},
   "outputs": [],
   "source": [
    "import os\n",
    "os.remove('demo.txt')"
   ]
  },
  {
   "cell_type": "code",
   "execution_count": 6,
   "metadata": {},
   "outputs": [],
   "source": [
    "#practice question\n",
    "with open(\"practice.txt\",\"w\") as f:\n",
    "    f.write(\"hi everyone\\nwe are learning File i/o\\n \")\n",
    "    f.write(\"using java.\\ni like programming in java\")"
   ]
  },
  {
   "cell_type": "code",
   "execution_count": 7,
   "metadata": {},
   "outputs": [
    {
     "name": "stdout",
     "output_type": "stream",
     "text": [
      "hi everyone\n",
      "we are learning File i/o\n",
      " using python.\n",
      "i like programming in python\n"
     ]
    }
   ],
   "source": [
    "#practice question\n",
    "with open(\"practice.txt\",\"r\") as f:\n",
    "    data=f.read()\n",
    "    new_data=data.replace(\"java\",\"python\")\n",
    "    print(new_data)"
   ]
  },
  {
   "cell_type": "code",
   "execution_count": 9,
   "metadata": {},
   "outputs": [
    {
     "name": "stdout",
     "output_type": "stream",
     "text": [
      "hi everyone\n",
      "we are learning File i/o\n",
      " using python.\n",
      "i like programming in python\n"
     ]
    }
   ],
   "source": [
    "#practice question\n",
    "with open(\"practice.txt\",\"r\") as f:\n",
    "    data=f.read()\n",
    "    new_data=data.replace(\"java\",\"python\")\n",
    "    print(new_data)\n",
    "\n",
    "with open(\"practice.txt\",\"w\") as f:\n",
    "    f.write(new_data)"
   ]
  },
  {
   "cell_type": "code",
   "execution_count": 11,
   "metadata": {},
   "outputs": [
    {
     "name": "stdout",
     "output_type": "stream",
     "text": [
      "found\n"
     ]
    }
   ],
   "source": [
    "#practice question\n",
    "word=\"learning\"\n",
    "with open(\"practice.txt\",\"r\") as f:\n",
    "    data=f.read()\n",
    "    if(data.find(word)) !=-1:\n",
    "        print(\"found\")\n",
    "    else:\n",
    "        print(\"not found\")"
   ]
  },
  {
   "cell_type": "code",
   "execution_count": 16,
   "metadata": {},
   "outputs": [
    {
     "name": "stdout",
     "output_type": "stream",
     "text": [
      "found\n"
     ]
    }
   ],
   "source": [
    "#practice question\n",
    "def check_for_word():\n",
    "    word=\"earning\"\n",
    "    with open(\"practice.txt\",\"r\") as f:\n",
    "        data=f.read()\n",
    "        if(data.find(word)) !=-1:\n",
    "            print(\"found\")\n",
    "        else:\n",
    "            print(\"not found\")\n",
    "\n",
    "check_for_word()"
   ]
  },
  {
   "cell_type": "code",
   "execution_count": 18,
   "metadata": {},
   "outputs": [
    {
     "name": "stdout",
     "output_type": "stream",
     "text": [
      "3\n"
     ]
    }
   ],
   "source": [
    "#practice question\n",
    "def check_for_word():\n",
    "    word=\"earning\"\n",
    "    with open(\"practice.txt\",\"r\") as f:\n",
    "        data=f.read()\n",
    "        if(data.find(word)) !=-1:\n",
    "            print(\"found\")\n",
    "        else:\n",
    "            print(\"not found\")\n",
    "\n",
    "def check_for_line():\n",
    "    word=\"python\"\n",
    "    data=True\n",
    "    line_no=1\n",
    "    with open(\"practice.txt\",\"r\") as f:\n",
    "        while data:\n",
    "            data=f.readline()\n",
    "            if(word in data):\n",
    "                print(line_no )\n",
    "                return\n",
    "            line_no +=1\n",
    "    return -1\n",
    "\n",
    "check_for_line()\n"
   ]
  },
  {
   "cell_type": "code",
   "execution_count": 21,
   "metadata": {},
   "outputs": [
    {
     "name": "stdout",
     "output_type": "stream",
     "text": [
      "1,2,45,55,86,76\n",
      "\n",
      "1\n",
      "2\n",
      "45\n",
      "55\n",
      "86\n"
     ]
    }
   ],
   "source": [
    "# from a file containing numbers seperated by comma, print the count of even numbers.\n",
    "# 1,2,45,,55,86,76\n",
    "with open(\"practice.txt\",\"r\") as f:\n",
    "    data = f.read()\n",
    "    print(data)\n",
    "    num=\"\"\n",
    "    for i in range(len(data)):\n",
    "        if(data[i]==\",\"):\n",
    "            print(int(num))\n",
    "            num=\"\"\n",
    "        else:\n",
    "            num+=data[i]"
   ]
  },
  {
   "cell_type": "code",
   "execution_count": 25,
   "metadata": {},
   "outputs": [
    {
     "name": "stdout",
     "output_type": "stream",
     "text": [
      "1,2,45,55,86,76\n",
      "\n",
      "3\n"
     ]
    }
   ],
   "source": [
    "# 2nd method\n",
    "count = 0\n",
    "with open(\"practice.txt\",\"r\") as f:\n",
    "    data = f.read()\n",
    "    print(data)\n",
    "\n",
    "    num=data.split(\",\")\n",
    "    for val in num:\n",
    "        if(int(val) % 2 == 0):\n",
    "            count+=1\n",
    "\n",
    "print(count)"
   ]
  },
  {
   "cell_type": "markdown",
   "metadata": {},
   "source": [
    "# `OOPs in python`\n",
    "\n",
    "to map with real world scenarios, we started using objects in code. This is called object oriented programmimg"
   ]
  },
  {
   "cell_type": "markdown",
   "metadata": {},
   "source": [
    "`Class and object in python`\n",
    "\n",
    "Class is a blueprint for creating objects."
   ]
  },
  {
   "cell_type": "markdown",
   "metadata": {},
   "source": [
    "#creating class\n",
    "\n",
    "class student:\n",
    "    name=\"ram chandra\""
   ]
  },
  {
   "cell_type": "markdown",
   "metadata": {},
   "source": [
    "#creating object(instances)\n",
    "\n",
    "s1= Student()\n",
    "print(s1.name)"
   ]
  },
  {
   "cell_type": "code",
   "execution_count": 5,
   "metadata": {},
   "outputs": [
    {
     "name": "stdout",
     "output_type": "stream",
     "text": [
      "karan\n",
      "karan\n"
     ]
    }
   ],
   "source": [
    "#class likh kar define karenge ki hmm student ke lye kya store karna chate hai\n",
    "class Student:\n",
    "    name=\"karan\"\n",
    "\n",
    "s1=Student()\n",
    "print(s1.name)\n",
    "\n",
    "s2=Student()\n",
    "print(s2.name)"
   ]
  },
  {
   "cell_type": "code",
   "execution_count": 8,
   "metadata": {},
   "outputs": [
    {
     "name": "stdout",
     "output_type": "stream",
     "text": [
      "blue\n",
      "ambasdar\n"
     ]
    }
   ],
   "source": [
    "class Car:\n",
    "    color=\"blue\"\n",
    "    brand=\"ambasdar\"\n",
    "car1=Car()\n",
    "print(car1.color)\n",
    "print(car1.brand)"
   ]
  },
  {
   "cell_type": "markdown",
   "metadata": {},
   "source": [
    "## `__init__` Function \n",
    "(is also knows as constructor.)\n",
    "All classes have a function called __init__(), which is always executed when the object is being initiated.\n"
   ]
  },
  {
   "cell_type": "markdown",
   "metadata": {},
   "source": [
    "#`creating class`\n",
    "class student:\n",
    "    def __init__(self,fullname):\n",
    "        self.name=fullname\n",
    "\n",
    "#`creating object`\n",
    "s1= student(\"karan\")\n",
    "    print(s1.name)"
   ]
  },
  {
   "cell_type": "markdown",
   "metadata": {},
   "source": [
    "**The `self` parameter is a reference to the current instances of the class, and is used to access variables that belongs to the class.**"
   ]
  },
  {
   "cell_type": "code",
   "execution_count": 12,
   "metadata": {},
   "outputs": [
    {
     "name": "stdout",
     "output_type": "stream",
     "text": [
      "<__main__.Student object at 0x000001F1FDF44320>\n",
      "adding new student in database\n",
      "<__main__.Student object at 0x000001F1FDF44320>\n"
     ]
    }
   ],
   "source": [
    "class Student:\n",
    "    name=\"karan\"\n",
    "    def __init__(self):\n",
    "        print(self)\n",
    "        print(\"adding new student in database\")\n",
    "\n",
    "s1=Student()\n",
    "print(s1)"
   ]
  },
  {
   "cell_type": "code",
   "execution_count": 18,
   "metadata": {},
   "outputs": [
    {
     "name": "stdout",
     "output_type": "stream",
     "text": [
      "adding new student in database\n",
      "karan\n"
     ]
    }
   ],
   "source": [
    "class Student:\n",
    "    def __init__(self,fullname):\n",
    "        self.name=fullname\n",
    "        print(\"adding new student in database\")\n",
    "\n",
    "s1=Student(\"karan\")\n",
    "print(s1.name)"
   ]
  },
  {
   "cell_type": "code",
   "execution_count": 17,
   "metadata": {},
   "outputs": [
    {
     "name": "stdout",
     "output_type": "stream",
     "text": [
      "adding new student in database\n",
      "karan\n",
      "adding new student in database\n",
      "Ram\n"
     ]
    }
   ],
   "source": [
    "class Student:\n",
    "    def __init__(self,fullname):\n",
    "        self.name=fullname\n",
    "        print(\"adding new student in database\")\n",
    "\n",
    "s1=Student(\"karan\")\n",
    "print(s1.name)\n",
    "\n",
    "s2=Student(\"Ram\")\n",
    "print(s2.name)"
   ]
  },
  {
   "cell_type": "code",
   "execution_count": 19,
   "metadata": {},
   "outputs": [
    {
     "name": "stdout",
     "output_type": "stream",
     "text": [
      "adding new student in database\n",
      "karan 98\n",
      "adding new student in database\n",
      "Ram\n"
     ]
    }
   ],
   "source": [
    "class Student:\n",
    "    def __init__(self,name,marks):\n",
    "        self.name=name\n",
    "        self.marks=marks\n",
    "        print(\"adding new student in database\")\n",
    "\n",
    "s1=Student(\"karan\",98)\n",
    "print(s1.name,s1.marks)\n",
    "\n",
    "s2=Student(\"Ram\",99)\n",
    "print(s2.name)"
   ]
  },
  {
   "cell_type": "code",
   "execution_count": null,
   "metadata": {},
   "outputs": [],
   "source": [
    "class Student:\n",
    "    #default constructors\n",
    "    def __init__(self):\n",
    "        pass\n",
    "\n",
    "    #parameterized constructor\n",
    "    def __init__(self,name,marks):\n",
    "        self.name=name\n",
    "        self.marks=marks\n",
    "        print(\"adding new student in database\")\n",
    "\n",
    "s1=Student(\"karan\",98)\n",
    "print(s1.name,s1.marks)\n",
    "\n",
    "s2=Student(\"Ram\",99)\n",
    "print(s2.name)\n"
   ]
  },
  {
   "cell_type": "markdown",
   "metadata": {},
   "source": [
    "# `class and instances` Attribute(data ya varibles)\n",
    "\n",
    "- there are two type of attribute\n",
    "1. class.attr -  is a class attribute, which is shared among all instances of the class.(class jo sari ki sari class ke lye common hote hai.)\n",
    "\n",
    "2. obj.attr - Attributes in Python are variables that belong to an object and contain information about its properties and characteristics. They can be used to represent details or facts related to the object"
   ]
  },
  {
   "cell_type": "code",
   "execution_count": 21,
   "metadata": {},
   "outputs": [
    {
     "name": "stdout",
     "output_type": "stream",
     "text": [
      "adding new student in database\n",
      "karan 98\n",
      "Jugadu collage\n"
     ]
    }
   ],
   "source": [
    "class Student:\n",
    "    collage_name=\"Jugadu collage\"\n",
    "    def __init__(self,name,marks):\n",
    "        self.name=name\n",
    "        self.marks=marks\n",
    "        print(\"adding new student in database\")\n",
    "\n",
    "s1=Student(\"karan\",98)\n",
    "print(s1.name,s1.marks)\n",
    "print(Student.collage_name)\n"
   ]
  },
  {
   "cell_type": "code",
   "execution_count": 22,
   "metadata": {},
   "outputs": [
    {
     "name": "stdout",
     "output_type": "stream",
     "text": [
      "adding new student in database\n",
      "karan 98\n",
      "Jugadu collage\n"
     ]
    }
   ],
   "source": [
    "class Student:\n",
    "    collage_name=\"Jugadu collage\"\n",
    "    name=\"anonymous\"\n",
    "    def __init__(self,name,marks):\n",
    "        self.name=name\n",
    "        self.marks=marks\n",
    "        print(\"adding new student in database\")\n",
    "\n",
    "s1=Student(\"karan\",98)\n",
    "print(s1.name,s1.marks)\n",
    "print(Student.collage_name)\n"
   ]
  },
  {
   "cell_type": "markdown",
   "metadata": {},
   "source": [
    "# `Methods`\n",
    "methods are the fuctions that belong to object."
   ]
  },
  {
   "cell_type": "markdown",
   "metadata": {},
   "source": [
    "**In class there two things stored one is attributes(data) and second is methods(functions).**"
   ]
  },
  {
   "cell_type": "markdown",
   "metadata": {},
   "source": [
    "#creating class\n",
    "class student:\n",
    "def __init__(self,fullname):\n",
    "    self.name=fullname\n",
    "\n",
    "def hello(self):\n",
    "    print(\"hello\",self.name)\n",
    "\n",
    "hello(def) is our method name"
   ]
  },
  {
   "cell_type": "code",
   "execution_count": 25,
   "metadata": {},
   "outputs": [
    {
     "name": "stdout",
     "output_type": "stream",
     "text": [
      "adding new student in database\n",
      "welcome student\n"
     ]
    }
   ],
   "source": [
    "class Student:\n",
    "    collage_name=\"Jugadu collage\"\n",
    "    def __init__(self,name,marks):\n",
    "        self.name=name\n",
    "        self.marks=marks\n",
    "        print(\"adding new student in database\")\n",
    "    \n",
    "    def welcome(self):\n",
    "        print(\"welcome student\")\n",
    "s1=Student(\"karan\",97)\n",
    "s1.welcome()"
   ]
  },
  {
   "cell_type": "code",
   "execution_count": 28,
   "metadata": {},
   "outputs": [
    {
     "name": "stdout",
     "output_type": "stream",
     "text": [
      "adding new student in database\n",
      "welcome student karan\n",
      "97\n"
     ]
    }
   ],
   "source": [
    "class Student:\n",
    "    collage_name=\"Jugadu collage\"\n",
    "    def __init__(self,name,marks):\n",
    "        self.name=name\n",
    "        self.marks=marks\n",
    "        print(\"adding new student in database\")\n",
    "    \n",
    "    def welcome(self):\n",
    "        print(\"welcome student\",self.name)\n",
    "\n",
    "    def get_marks(self):\n",
    "        return self.marks\n",
    "s1=Student(\"karan\",97)\n",
    "s1.welcome()\n",
    "print(s1.get_marks())"
   ]
  },
  {
   "cell_type": "markdown",
   "metadata": {},
   "source": [
    "### Practice\n",
    "Create student class that takes name and marks of 3 subjects as arguments in constructor. Then create a method to print the average."
   ]
  },
  {
   "cell_type": "code",
   "execution_count": 7,
   "metadata": {},
   "outputs": [
    {
     "name": "stdout",
     "output_type": "stream",
     "text": [
      "hi tony your avg score is: 95.0\n",
      "hi superman your avg score is: 95.0\n"
     ]
    }
   ],
   "source": [
    "class Student:\n",
    "    def __init__(self,name,marks):\n",
    "        self.name=name\n",
    "        self.marks=marks\n",
    "    \n",
    "    def get_avg(self):\n",
    "        sum=0\n",
    "        for val in self.marks:\n",
    "            sum+=val\n",
    "        print(\"hi\",self.name,\"your avg score is:\",sum/3)\n",
    "\n",
    "s1=Student(\"tony\", [98,97,90])\n",
    "s1.get_avg()\n",
    "\n",
    "s1.name=\"superman\" # to change attribute name\n",
    "s1.get_avg()"
   ]
  },
  {
   "cell_type": "code",
   "execution_count": 11,
   "metadata": {},
   "outputs": [
    {
     "name": "stdout",
     "output_type": "stream",
     "text": [
      "hi tony your avg score is: 95.0\n",
      "hi superman your avg score is: 95.0\n"
     ]
    },
    {
     "ename": "TypeError",
     "evalue": "Student.hello() takes 0 positional arguments but 1 was given",
     "output_type": "error",
     "traceback": [
      "\u001b[1;31m---------------------------------------------------------------------------\u001b[0m",
      "\u001b[1;31mTypeError\u001b[0m                                 Traceback (most recent call last)",
      "Cell \u001b[1;32mIn[11], line 21\u001b[0m\n\u001b[0;32m     19\u001b[0m s1\u001b[38;5;241m.\u001b[39mname\u001b[38;5;241m=\u001b[39m\u001b[38;5;124m\"\u001b[39m\u001b[38;5;124msuperman\u001b[39m\u001b[38;5;124m\"\u001b[39m \u001b[38;5;66;03m# to change attribute name\u001b[39;00m\n\u001b[0;32m     20\u001b[0m s1\u001b[38;5;241m.\u001b[39mget_avg()\n\u001b[1;32m---> 21\u001b[0m \u001b[43ms1\u001b[49m\u001b[38;5;241;43m.\u001b[39;49m\u001b[43mhello\u001b[49m\u001b[43m(\u001b[49m\u001b[43m)\u001b[49m\n",
      "\u001b[1;31mTypeError\u001b[0m: Student.hello() takes 0 positional arguments but 1 was given"
     ]
    }
   ],
   "source": [
    "class Student:\n",
    "    def __init__(self,name,marks):\n",
    "        self.name=name\n",
    "        self.marks=marks\n",
    "    \n",
    "    def hello():\n",
    "        print(\"hello\") # it will give error bcoz we have not provided self parameter \n",
    "        \n",
    "\n",
    "    def get_avg(self):\n",
    "        sum=0\n",
    "        for val in self.marks:\n",
    "            sum+=val\n",
    "        print(\"hi\",self.name,\"your avg score is:\",sum/3)\n",
    "\n",
    "s1=Student(\"tony\", [98,97,90])\n",
    "s1.get_avg()\n",
    "\n",
    "s1.name=\"superman\" # to change attribute name\n",
    "s1.get_avg()\n",
    "s1.hello()"
   ]
  },
  {
   "cell_type": "markdown",
   "metadata": {},
   "source": [
    "# `Static methods`\n",
    "Methods that don't use self parameter(work at class level)"
   ]
  },
  {
   "cell_type": "markdown",
   "metadata": {},
   "source": [
    "class Student:\n",
    "    @static method #decorator\n",
    "    def college():\n",
    "        print(\"ABC Collage\")"
   ]
  },
  {
   "cell_type": "markdown",
   "metadata": {},
   "source": [
    "**Decorators allow us to another function in order to extend the behavior of the wrapped function,without permanently modifying it.**"
   ]
  },
  {
   "cell_type": "code",
   "execution_count": 10,
   "metadata": {},
   "outputs": [
    {
     "name": "stdout",
     "output_type": "stream",
     "text": [
      "hi tony your avg score is: 95.0\n",
      "hi superman your avg score is: 95.0\n",
      "hello\n"
     ]
    }
   ],
   "source": [
    "class Student:\n",
    "    def __init__(self,name,marks):\n",
    "        self.name=name\n",
    "        self.marks=marks\n",
    "    \n",
    "    @staticmethod\n",
    "    def hello():\n",
    "        print(\"hello\") # it will give error bcoz we have not provided self parameter \n",
    "        \n",
    "\n",
    "    def get_avg(self):\n",
    "        sum=0\n",
    "        for val in self.marks:\n",
    "            sum+=val\n",
    "        print(\"hi\",self.name,\"your avg score is:\",sum/3)\n",
    "\n",
    "s1=Student(\"tony\", [98,97,90])\n",
    "s1.get_avg()\n",
    "\n",
    "s1.name=\"superman\" # to change attribute name\n",
    "s1.get_avg()\n",
    "s1.hello()"
   ]
  },
  {
   "cell_type": "markdown",
   "metadata": {},
   "source": [
    "#`Important` they are two important pillars of opps\n",
    "\n",
    "# `Abstraction`\n",
    "Hiding the implementatiion details of a class and only showing the essential features to the user.\n",
    "\n"
   ]
  },
  {
   "cell_type": "code",
   "execution_count": 13,
   "metadata": {},
   "outputs": [
    {
     "name": "stdout",
     "output_type": "stream",
     "text": [
      "car started\n"
     ]
    }
   ],
   "source": [
    "class car:\n",
    "    def __init__(self):\n",
    "        self.acc = False\n",
    "        self.brk = False\n",
    "        self.clutch = False\n",
    "\n",
    "    def start(self):\n",
    "        self.clutch=True\n",
    "        self.acc = True\n",
    "        print(\"car started\")\n",
    "\n",
    "car1=car()\n",
    "car1.start()"
   ]
  },
  {
   "cell_type": "markdown",
   "metadata": {},
   "source": [
    "# `Encapsulation` \n",
    "wrapping data and function into a single unit(object).\n",
    "\n",
    "we try to create a capsule in single unit.in short we created a class-attribute ,methods all in one."
   ]
  },
  {
   "cell_type": "code",
   "execution_count": 19,
   "metadata": {},
   "outputs": [
    {
     "name": "stdout",
     "output_type": "stream",
     "text": [
      "Rs. 10 was debited\n",
      "total balance= 90\n",
      "Rs. 500 was credited\n",
      "total balance= 590\n",
      "Rs. 100000 was credited\n",
      "total balance= 100590\n"
     ]
    }
   ],
   "source": [
    "#Practice question\n",
    "# create a account class with 2 attributes -balance and account number.\n",
    "#create methods for debit, credit and printing the balance. \n",
    "\n",
    "class accounts:\n",
    "    def __init__(self,bal,acc):\n",
    "        self.balance=bal\n",
    "        self.account_number=acc\n",
    "\n",
    "    def debit(self,amount):\n",
    "        self.balance-= amount\n",
    "        print(\"Rs.\",amount,\"was debited\")\n",
    "        print(\"total balance=\",self.get_bal())\n",
    "\n",
    "    def credit(self,amount):\n",
    "        self.balance+= amount\n",
    "        print(\"Rs.\",amount,\"was credited\")\n",
    "        print(\"total balance=\",self.get_bal())\n",
    "\n",
    "    def get_bal(self):\n",
    "        return self.balance\n",
    "\n",
    "acc1=accounts(100,12345)\n",
    "acc1.debit(10)\n",
    "acc1.credit(500)\n",
    "acc1.credit(100000)\n"
   ]
  },
  {
   "cell_type": "markdown",
   "metadata": {},
   "source": [
    "## del keyword\n",
    "Used to delete object properties or object itself"
   ]
  },
  {
   "cell_type": "code",
   "execution_count": 3,
   "metadata": {},
   "outputs": [
    {
     "name": "stdout",
     "output_type": "stream",
     "text": [
      "tony\n"
     ]
    },
    {
     "ename": "AttributeError",
     "evalue": "'student' object has no attribute 'name'",
     "output_type": "error",
     "traceback": [
      "\u001b[1;31m---------------------------------------------------------------------------\u001b[0m",
      "\u001b[1;31mAttributeError\u001b[0m                            Traceback (most recent call last)",
      "Cell \u001b[1;32mIn[3], line 8\u001b[0m\n\u001b[0;32m      6\u001b[0m \u001b[38;5;28mprint\u001b[39m(s1\u001b[38;5;241m.\u001b[39mname)\n\u001b[0;32m      7\u001b[0m \u001b[38;5;28;01mdel\u001b[39;00m s1\u001b[38;5;241m.\u001b[39mname\n\u001b[1;32m----> 8\u001b[0m \u001b[38;5;28mprint\u001b[39m(\u001b[43ms1\u001b[49m\u001b[38;5;241;43m.\u001b[39;49m\u001b[43mname\u001b[49m)\n",
      "\u001b[1;31mAttributeError\u001b[0m: 'student' object has no attribute 'name'"
     ]
    }
   ],
   "source": [
    "class student:\n",
    "    def __init__(self,name):\n",
    "        self.name=name\n",
    "\n",
    "s1=student(\"tony\")\n",
    "print(s1.name)\n",
    "del s1.name\n",
    "print(s1.name)"
   ]
  },
  {
   "cell_type": "markdown",
   "metadata": {},
   "source": [
    "## Private(like) attributes and methods\n",
    "conceptual implementation in python.\n",
    "Private attributes and methods are meant to be used only within the class and are not accessible from outside the class."
   ]
  },
  {
   "cell_type": "markdown",
   "metadata": {},
   "source": [
    "class student:\n",
    "    def __init__(self,name):\n",
    "        self.name=name\n",
    "\n",
    "s1=student(\"tony\")\n",
    "print(s1.name)  #public"
   ]
  },
  {
   "cell_type": "markdown",
   "metadata": {},
   "source": [
    "**use __(underscore-2) in front of your attribute to make it private.**"
   ]
  },
  {
   "cell_type": "code",
   "execution_count": 2,
   "metadata": {},
   "outputs": [
    {
     "name": "stdout",
     "output_type": "stream",
     "text": [
      "12345\n"
     ]
    },
    {
     "ename": "AttributeError",
     "evalue": "'accounts' object has no attribute '__acc_pass'",
     "output_type": "error",
     "traceback": [
      "\u001b[1;31m---------------------------------------------------------------------------\u001b[0m",
      "\u001b[1;31mAttributeError\u001b[0m                            Traceback (most recent call last)",
      "Cell \u001b[1;32mIn[2], line 9\u001b[0m\n\u001b[0;32m      7\u001b[0m acc1\u001b[38;5;241m=\u001b[39maccounts(\u001b[38;5;124m\"\u001b[39m\u001b[38;5;124m12345\u001b[39m\u001b[38;5;124m\"\u001b[39m,\u001b[38;5;124m\"\u001b[39m\u001b[38;5;124mabcde\u001b[39m\u001b[38;5;124m\"\u001b[39m)\n\u001b[0;32m      8\u001b[0m \u001b[38;5;28mprint\u001b[39m(acc1\u001b[38;5;241m.\u001b[39macc_no)\n\u001b[1;32m----> 9\u001b[0m \u001b[38;5;28mprint\u001b[39m(\u001b[43macc1\u001b[49m\u001b[38;5;241;43m.\u001b[39;49m\u001b[43m__acc_pass\u001b[49m)\n",
      "\u001b[1;31mAttributeError\u001b[0m: 'accounts' object has no attribute '__acc_pass'"
     ]
    }
   ],
   "source": [
    "class accounts:\n",
    "    def __init__(self,acc_no,acc_pass):\n",
    "        self.acc_no=acc_no\n",
    "        self.__acc_pass=acc_pass\n",
    "\n",
    "    def reset_pass(self):\n",
    "        print(self.__acc_pass)\n",
    "acc1=accounts(\"12345\",\"abcde\")\n",
    "print(acc1.acc_no)\n",
    "print(acc1.__acc_pass)"
   ]
  },
  {
   "cell_type": "code",
   "execution_count": 7,
   "metadata": {},
   "outputs": [
    {
     "name": "stdout",
     "output_type": "stream",
     "text": [
      "hello person!\n",
      "None\n"
     ]
    }
   ],
   "source": [
    "class Person:\n",
    "    __name= \"anonymous\"\n",
    "\n",
    "    def __hello(self):\n",
    "        print(\"hello person!\")\n",
    "\n",
    "    def welcome(self):\n",
    "        self.__hello()\n",
    "\n",
    "p1=Person()\n",
    "print(p1.welcome())"
   ]
  },
  {
   "cell_type": "markdown",
   "metadata": {},
   "source": [
    "# `Inheritance`\n",
    "When one class(child/derived) derives the properties and methods of another class(parent/base)."
   ]
  },
  {
   "cell_type": "code",
   "execution_count": 10,
   "metadata": {},
   "outputs": [
    {
     "name": "stdout",
     "output_type": "stream",
     "text": [
      "car started..\n",
      "None\n"
     ]
    }
   ],
   "source": [
    "# single heritance class\n",
    "class Car:\n",
    "    @staticmethod\n",
    "    def start():\n",
    "        print(\"car started..\")\n",
    "\n",
    "    @staticmethod\n",
    "    def stop():\n",
    "        print(\"car stopped\")\n",
    "\n",
    "class ToyotaCar(Car):\n",
    "    def __init__(self, name):\n",
    "        self.name= name\n",
    "\n",
    "car1=ToyotaCar(\"fortuner\")\n",
    "car2=ToyotaCar(\"prius\")\n",
    "\n",
    "print(car1.start())"
   ]
  },
  {
   "cell_type": "markdown",
   "metadata": {},
   "source": [
    "## `Types of Inheritance`\n",
    "- Single Inheritance\n",
    "\n",
    "    base(parent class) -> derived(child class)\n",
    "    \n",
    "- Multi-level Inheritance\n",
    "\n",
    "    base(parent class) -> derived(child class[is the parent class of another derived class]) -> derived(child class)\n",
    "\n",
    "- Multiple Inheritance"
   ]
  },
  {
   "cell_type": "code",
   "execution_count": 3,
   "metadata": {},
   "outputs": [
    {
     "ename": "AttributeError",
     "evalue": "'ToyotaCar' object has no attribute 'color'",
     "output_type": "error",
     "traceback": [
      "\u001b[1;31m---------------------------------------------------------------------------\u001b[0m",
      "\u001b[1;31mAttributeError\u001b[0m                            Traceback (most recent call last)",
      "Cell \u001b[1;32mIn[3], line 20\u001b[0m\n\u001b[0;32m     17\u001b[0m         \u001b[38;5;28mself\u001b[39m\u001b[38;5;241m.\u001b[39mtype\u001b[38;5;241m=\u001b[39m\u001b[38;5;28mtype\u001b[39m\n\u001b[0;32m     19\u001b[0m car1\u001b[38;5;241m=\u001b[39mToyotaCar(\u001b[38;5;124m\"\u001b[39m\u001b[38;5;124mprius\u001b[39m\u001b[38;5;124m\"\u001b[39m)\n\u001b[1;32m---> 20\u001b[0m \u001b[38;5;28mprint\u001b[39m(\u001b[43mcar1\u001b[49m\u001b[38;5;241;43m.\u001b[39;49m\u001b[43mcolor\u001b[49m())\n",
      "\u001b[1;31mAttributeError\u001b[0m: 'ToyotaCar' object has no attribute 'color'"
     ]
    }
   ],
   "source": [
    "# multi-level heritance class\n",
    "class Car:\n",
    "    @staticmethod\n",
    "    def start():\n",
    "        print(\"car started..\")\n",
    "\n",
    "    @staticmethod\n",
    "    def stop():\n",
    "        print(\"car stopped\")\n",
    "\n",
    "class ToyotaCar(Car):\n",
    "    def __init__(self, brand):\n",
    "        self.brand= brand\n",
    "\n",
    "class Fortuner(ToyotaCar):\n",
    "    def __init__(self,type):\n",
    "        self.type=type\n",
    "\n",
    "car1=ToyotaCar(\"prius\")\n",
    "print(car1.color())\n"
   ]
  },
  {
   "cell_type": "markdown",
   "metadata": {},
   "source": [
    "# `Multiple Inheritance`"
   ]
  },
  {
   "cell_type": "code",
   "execution_count": 4,
   "metadata": {},
   "outputs": [
    {
     "name": "stdout",
     "output_type": "stream",
     "text": [
      "welcome to class C\n",
      "welcome to class B\n",
      "welcome to class A\n"
     ]
    }
   ],
   "source": [
    "class A:\n",
    "    varA=\"welcome to class A\"\n",
    "\n",
    "class B:\n",
    "    varB=\"welcome to class B\"\n",
    "\n",
    "class C(A,B):\n",
    "    varC=\"welcome to class C\"\n",
    "\n",
    "c1=C()\n",
    "\n",
    "print(c1.varC)\n",
    "print(c1.varB)\n",
    "print(c1.varA)"
   ]
  },
  {
   "cell_type": "markdown",
   "metadata": {},
   "source": [
    "# `Super Method()`\n",
    "\n",
    "super() method is used to access methods of the parent class."
   ]
  },
  {
   "cell_type": "code",
   "execution_count": 8,
   "metadata": {},
   "outputs": [
    {
     "name": "stdout",
     "output_type": "stream",
     "text": [
      "electric\n"
     ]
    }
   ],
   "source": [
    "class Car:\n",
    "    def __init__(self,type):\n",
    "        self.type=type\n",
    "\n",
    "    @staticmethod\n",
    "    def start():\n",
    "        print(\"car started..\")\n",
    "\n",
    "    @staticmethod\n",
    "    def stop():\n",
    "        print(\"car stopped\")\n",
    "\n",
    "class ToyotaCar(Car):\n",
    "    def __init__(self, name,type):\n",
    "        super().__init__(type)\n",
    "        self.name= name\n",
    "        \n",
    "car1=ToyotaCar(\"prius\",\"electric\")\n",
    "print(car1.type)\n"
   ]
  },
  {
   "cell_type": "markdown",
   "metadata": {},
   "source": [
    "# `Class method`\n",
    "\n",
    "a class method is bound to the class and receive the class as an implicit first argument.\n",
    "\n",
    "**Note- Static method can,t access or modify class state and generally for utility.**"
   ]
  },
  {
   "cell_type": "markdown",
   "metadata": {},
   "source": [
    "class Student:\n",
    "    @classmethod #decorator\n",
    "    def college(cls):\n",
    "        pass"
   ]
  },
  {
   "cell_type": "code",
   "execution_count": 11,
   "metadata": {},
   "outputs": [
    {
     "name": "stdout",
     "output_type": "stream",
     "text": [
      "rahul Kumar\n",
      "rahul Kumar\n"
     ]
    }
   ],
   "source": [
    "# class Person:\n",
    "#     name=\"anonymous\"\n",
    "\n",
    "#     def changeName(self,name):\n",
    "#         self.name=name\n",
    "\n",
    "# p1=Person()\n",
    "# p1.changeName(\"rahul Kumar\")\n",
    "# print(p1.name)\n",
    "# print(Person.name)\n",
    "\n",
    "class Person:\n",
    "    name=\"anonymous\"\n",
    "\n",
    "    def changeName(self,name):\n",
    "        Person.name=name\n",
    "\n",
    "p1=Person()\n",
    "p1.changeName(\"rahul Kumar\")\n",
    "print(p1.name)\n",
    "print(Person.name)"
   ]
  },
  {
   "cell_type": "code",
   "execution_count": 1,
   "metadata": {},
   "outputs": [
    {
     "name": "stdout",
     "output_type": "stream",
     "text": [
      "rahul Kumar\n",
      "rahul Kumar\n"
     ]
    }
   ],
   "source": [
    "# 2nd method\n",
    "class Person:\n",
    "    name=\"anonymous\"\n",
    "\n",
    "    def changeName(self,name):\n",
    "        self.__class__.name=name\n",
    "\n",
    "p1=Person()\n",
    "p1.changeName(\"rahul Kumar\")\n",
    "print(p1.name)\n",
    "print(Person.name)"
   ]
  },
  {
   "cell_type": "code",
   "execution_count": 2,
   "metadata": {},
   "outputs": [
    {
     "name": "stdout",
     "output_type": "stream",
     "text": [
      "rahul Kumar\n",
      "rahul Kumar\n"
     ]
    }
   ],
   "source": [
    "#3rd method\n",
    "class Person:\n",
    "    name=\"anonymous\"\n",
    "\n",
    "    # def changeName(self,name):\n",
    "    #     self.__class__.name=name\n",
    "\n",
    "    @classmethod\n",
    "    def changeName(cls,name):\n",
    "        cls.name=name\n",
    "\n",
    "p1=Person()\n",
    "p1.changeName(\"rahul Kumar\")\n",
    "print(p1.name)\n",
    "print(Person.name)"
   ]
  },
  {
   "cell_type": "markdown",
   "metadata": {},
   "source": [
    "# `Property` method(decorator)\n",
    "we use @property decorator on any method in the class to use the method as a property."
   ]
  },
  {
   "cell_type": "code",
   "execution_count": 5,
   "metadata": {},
   "outputs": [
    {
     "name": "stdout",
     "output_type": "stream",
     "text": [
      "97.0%\n",
      "93.0%\n"
     ]
    }
   ],
   "source": [
    "class Student:\n",
    "    def __init__(self,phy,chem,math):\n",
    "        self.phy=phy\n",
    "        self.chem=chem\n",
    "        self.math=math\n",
    "\n",
    "    # def calculatePercentage(self):\n",
    "    #     self.percentage=str((self.phy+self.chem+self.math)/3) + \"%\"\n",
    "    @property\n",
    "    def percentage(self):\n",
    "        return str((self.phy+self.chem+self.math)/3) + \"%\"\n",
    "\n",
    "stu1=Student(98,97,96)\n",
    "print(stu1.percentage)\n",
    "\n",
    "stu1.phy=86\n",
    "print(stu1.percentage)"
   ]
  },
  {
   "cell_type": "markdown",
   "metadata": {},
   "source": [
    "# `Polymorphism: Operator Overloading`\n",
    "when the same operator is allowed to have different meaning according to the context.\n",
    "\n",
    "### `Operator and Dunder function`\n",
    "\n",
    "a + b #addition  a.__add__(b)\n",
    "\n",
    "a - b #subtraction  a.__sub__(b)\n",
    "\n",
    "a * b #multiplication  a.__mul__(b)\n",
    "\n",
    "a / b #division  a.__truediv__(b)\n",
    "\n",
    "a % b #addition  a.__mod__(b)"
   ]
  },
  {
   "cell_type": "code",
   "execution_count": 6,
   "metadata": {},
   "outputs": [
    {
     "name": "stdout",
     "output_type": "stream",
     "text": [
      "3\n",
      "<class 'int'>\n",
      "apnacollage\n",
      "<class 'str'>\n",
      "[1, 2, 3, 4, 5, 6]\n",
      "<class 'list'>\n"
     ]
    }
   ],
   "source": [
    "# + sign have different meaning according to different types\n",
    "print(1+2) #3  Addition\n",
    "print(type(1))\n",
    "print(\"apna\"+\"collage\") #concatenate\n",
    "print(type(\"apna\"))\n",
    "print([1,2,3]+[4,5,6])# merge\n",
    "print(type([1,2,3]))\n"
   ]
  },
  {
   "cell_type": "code",
   "execution_count": 7,
   "metadata": {},
   "outputs": [
    {
     "name": "stdout",
     "output_type": "stream",
     "text": [
      "1 i + 3 j\n",
      "4 i + 6 j\n",
      "5 i + 9 j\n"
     ]
    }
   ],
   "source": [
    "class Complex:\n",
    "    def __init__(self,real,img):\n",
    "        self.real=real\n",
    "        self.img=img\n",
    "\n",
    "    def showNumber(self):\n",
    "        print(self.real,\"i +\",self.img,\"j\")\n",
    "\n",
    "    def add(self,num2):\n",
    "        newReal=self.real+num2.real\n",
    "        newImg=self.img+num2.img\n",
    "        return Complex(newReal,newImg)\n",
    "\n",
    "num1=Complex(1,3)\n",
    "num1.showNumber()\n",
    "\n",
    "num2=Complex(4,6)\n",
    "num2.showNumber()\n",
    "\n",
    "num3=num1.add(num2)\n",
    "num3.showNumber()\n",
    "\n"
   ]
  },
  {
   "cell_type": "code",
   "execution_count": 8,
   "metadata": {},
   "outputs": [
    {
     "name": "stdout",
     "output_type": "stream",
     "text": [
      "1 i + 3 j\n",
      "4 i + 6 j\n",
      "5 i + 9 j\n"
     ]
    }
   ],
   "source": [
    "# how Polymorphism works __add__\n",
    "class Complex:\n",
    "    def __init__(self,real,img):\n",
    "        self.real=real\n",
    "        self.img=img\n",
    "\n",
    "    def showNumber(self):\n",
    "        print(self.real,\"i +\",self.img,\"j\")\n",
    "\n",
    "    def __add__(self,num2):\n",
    "        newReal=self.real+num2.real\n",
    "        newImg=self.img+num2.img\n",
    "        return Complex(newReal,newImg)\n",
    "\n",
    "num1=Complex(1,3)\n",
    "num1.showNumber()\n",
    "\n",
    "num2=Complex(4,6)\n",
    "num2.showNumber()\n",
    "\n",
    "num3=num1+num2\n",
    "num3.showNumber()"
   ]
  },
  {
   "cell_type": "code",
   "execution_count": 10,
   "metadata": {},
   "outputs": [
    {
     "name": "stdout",
     "output_type": "stream",
     "text": [
      "1 i + 3 j\n",
      "4 i + 6 j\n",
      "-3 i + -3 j\n"
     ]
    }
   ],
   "source": [
    "# how Polymorphism works __add__\n",
    "class Complex:\n",
    "    def __init__(self,real,img):\n",
    "        self.real=real\n",
    "        self.img=img\n",
    "\n",
    "    def showNumber(self):\n",
    "        print(self.real,\"i +\",self.img,\"j\")\n",
    "\n",
    "    def __sub__(self,num2):\n",
    "        newReal=self.real-num2.real\n",
    "        newImg=self.img-num2.img\n",
    "        return Complex(newReal,newImg)\n",
    "\n",
    "num1=Complex(1,3)\n",
    "num1.showNumber()\n",
    "\n",
    "num2=Complex(4,6)\n",
    "num2.showNumber()\n",
    "\n",
    "num3=num1-num2\n",
    "num3.showNumber()"
   ]
  },
  {
   "cell_type": "markdown",
   "metadata": {},
   "source": [
    "Practice\n",
    "\n",
    "Define a circle class to create a circle with radius r using the constrctor."
   ]
  },
  {
   "cell_type": "code",
   "execution_count": 1,
   "metadata": {},
   "outputs": [
    {
     "name": "stdout",
     "output_type": "stream",
     "text": [
      "1386.0\n",
      "132.0\n"
     ]
    }
   ],
   "source": [
    "class Circle:\n",
    "    def __init__(self, radius):\n",
    "        self.radius = radius\n",
    "\n",
    "    def area(self):\n",
    "        return (22/7) * self.radius ** 2\n",
    "    \n",
    "    def perimeter(self):\n",
    "        return 2 * (22/7) * self.radius\n",
    "c1=Circle(21)\n",
    "print(c1.area())\n",
    "print(c1.perimeter())"
   ]
  },
  {
   "cell_type": "markdown",
   "metadata": {},
   "source": [
    "Define a Employee class with attribute role, department and salary.This class also has showDetails() method."
   ]
  },
  {
   "cell_type": "code",
   "execution_count": 2,
   "metadata": {},
   "outputs": [
    {
     "name": "stdout",
     "output_type": "stream",
     "text": [
      "role = Engineer\n",
      "dept = IT\n",
      "salary = 75000\n"
     ]
    }
   ],
   "source": [
    "class Employee:\n",
    "    def __init__(self, role, dept, salary):\n",
    "        self.role = role\n",
    "        self.dept = dept\n",
    "        self.salary = salary\n",
    "\n",
    "    def showDetails(self):\n",
    "        print(\"role =\", self.role)\n",
    "        print(\"dept =\", self.dept)\n",
    "        print(\"salary =\",self.salary)\n",
    "\n",
    "class Engineer(Employee):\n",
    "    def __init__(self, name, age):\n",
    "        self.name = name\n",
    "        self.age = age\n",
    "        super().__init__(\"Engineer\", \"IT\" , \"75000\")\n",
    "\n",
    "engg1 = Engineer(\"elon musk\",40)\n",
    "engg1.showDetails()\n"
   ]
  },
  {
   "cell_type": "code",
   "execution_count": 5,
   "metadata": {},
   "outputs": [
    {
     "ename": "TypeError",
     "evalue": "'>' not supported between instances of 'Order' and 'Order'",
     "output_type": "error",
     "traceback": [
      "\u001b[1;31m---------------------------------------------------------------------------\u001b[0m",
      "\u001b[1;31mTypeError\u001b[0m                                 Traceback (most recent call last)",
      "Cell \u001b[1;32mIn[5], line 12\u001b[0m\n\u001b[0;32m      9\u001b[0m odr1 \u001b[38;5;241m=\u001b[39m Order(\u001b[38;5;124m\"\u001b[39m\u001b[38;5;124mchips\u001b[39m\u001b[38;5;124m\"\u001b[39m,\u001b[38;5;241m20\u001b[39m)\n\u001b[0;32m     10\u001b[0m odr2 \u001b[38;5;241m=\u001b[39m Order(\u001b[38;5;124m\"\u001b[39m\u001b[38;5;124mtea\u001b[39m\u001b[38;5;124m\"\u001b[39m,\u001b[38;5;241m15\u001b[39m)\n\u001b[1;32m---> 12\u001b[0m \u001b[38;5;28mprint\u001b[39m(\u001b[43modr1\u001b[49m\u001b[43m \u001b[49m\u001b[38;5;241;43m>\u001b[39;49m\u001b[43m \u001b[49m\u001b[43modr2\u001b[49m)\n",
      "\u001b[1;31mTypeError\u001b[0m: '>' not supported between instances of 'Order' and 'Order'"
     ]
    }
   ],
   "source": [
    "class Order:\n",
    "    def __init__(self,item,price):\n",
    "        self.item = item\n",
    "        self.price = price\n",
    "\n",
    "        def __gt__(self, odr2):\n",
    "            return self.price > odr2.price\n",
    "\n",
    "odr1 = Order(\"chips\",20)\n",
    "odr2 = Order(\"tea\",15)\n",
    "\n",
    "print(odr1 > odr2)"
   ]
  }
 ],
 "metadata": {
  "kernelspec": {
   "display_name": "Python 3",
   "language": "python",
   "name": "python3"
  },
  "language_info": {
   "codemirror_mode": {
    "name": "ipython",
    "version": 3
   },
   "file_extension": ".py",
   "mimetype": "text/x-python",
   "name": "python",
   "nbconvert_exporter": "python",
   "pygments_lexer": "ipython3",
   "version": "3.12.3"
  }
 },
 "nbformat": 4,
 "nbformat_minor": 2
}
